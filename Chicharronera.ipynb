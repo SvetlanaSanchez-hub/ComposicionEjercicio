{
  "nbformat": 4,
  "nbformat_minor": 0,
  "metadata": {
    "colab": {
      "name": "Chicharronera.ipynb",
      "provenance": [],
      "collapsed_sections": [],
      "authorship_tag": "ABX9TyPW/TP+yXjI8o1M4kMLQuhN",
      "include_colab_link": true
    },
    "kernelspec": {
      "name": "python3",
      "display_name": "Python 3"
    },
    "language_info": {
      "name": "python"
    }
  },
  "cells": [
    {
      "cell_type": "markdown",
      "metadata": {
        "id": "view-in-github",
        "colab_type": "text"
      },
      "source": [
        "<a href=\"https://colab.research.google.com/github/SvetlanaSanchez-hub/ComposicionEjercicio/blob/master/Chicharronera.ipynb\" target=\"_parent\"><img src=\"https://colab.research.google.com/assets/colab-badge.svg\" alt=\"Open In Colab\"/></a>"
      ]
    },
    {
      "cell_type": "code",
      "metadata": {
        "colab": {
          "base_uri": "https://localhost:8080/"
        },
        "id": "kqQ9pwIw86qN",
        "outputId": "f9acd720-4c87-4059-cbb0-aa6ac3dfa632"
      },
      "source": [
        "# Funcion para resolver ecuaciones de segundo grado\n",
        "\n",
        "a = float(input('Introduzca el valor de a: '))\n",
        "b = float(input('Introduzca el valor de b: '))\n",
        "c = float(input('Introduzca el valor de c: '))\n",
        "\n",
        "x_1 = (-b+(((b**2)-(4*a*c))**0.5))/(2*a)\n",
        "x_2 = (-b-(((b**2)-(4*a*c))**0.5))/(2*a)\n",
        "\n",
        "\n",
        "#Se eleva a la 0.5 porque se convirtió la raíz\n",
        "\n",
        "print('El valor de x_1 es: ') \n",
        "print(x_1)\n",
        "\n",
        "print('El valor de x_2 es: ') \n",
        "print(x_2)\n",
        "\n"
      ],
      "execution_count": 7,
      "outputs": [
        {
          "output_type": "stream",
          "name": "stdout",
          "text": [
            "Introduzca el valor de a: 3\n",
            "Introduzca el valor de b: -5\n",
            "Introduzca el valor de c: 2\n",
            "El valor de x_1 es: \n",
            "1.0\n",
            "El valor de x_2 es: \n",
            "0.6666666666666666\n"
          ]
        }
      ]
    }
  ]
}